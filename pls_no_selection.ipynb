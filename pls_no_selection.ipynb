{
 "cells": [
  {
   "cell_type": "code",
   "execution_count": 1,
   "metadata": {},
   "outputs": [],
   "source": [
    "import math\n",
    "import numpy as np\n",
    "import pandas as pd\n",
    "import matplotlib.pyplot as plt\n",
    "from matplotlib import lines\n",
    "import matplotlib.collections as collections\n",
    "import matplotlib.gridspec as gridspec\n",
    "from mpl_toolkits.mplot3d import Axes3D\n",
    "import seaborn as sns\n",
    "from sklearn.cross_decomposition import PLSRegression\n",
    "from sklearn.model_selection import cross_val_score\n",
    "# mape is from scikit V0.24, unstable, taken from nightly build\n",
    "from sklearn.metrics import r2_score, mean_squared_error as mse, mean_absolute_percentage_error as mape\n",
    "from scipy.stats import f, pearsonr, linregress\n",
    "from scipy.signal import argrelmax\n",
    "\n",
    "from helpers import cal_val_split, get_line_ends\n",
    "from stats import rmspe"
   ]
  },
  {
   "cell_type": "code",
   "execution_count": 2,
   "metadata": {},
   "outputs": [
    {
     "data": {
      "text/plain": [
       "'1.1.2'"
      ]
     },
     "execution_count": 2,
     "metadata": {},
     "output_type": "execute_result"
    }
   ],
   "source": [
    "pd.__version__"
   ]
  },
  {
   "cell_type": "code",
   "execution_count": 2,
   "metadata": {},
   "outputs": [],
   "source": [
    "plt.tick_params(labelsize=16)"
   ]
  },
  {
   "cell_type": "code",
   "execution_count": 3,
   "metadata": {},
   "outputs": [],
   "source": [
    "COLORS = {\n",
    "    #57: '#ff98a6',\n",
    "    #64: '#3dae46',\n",
    "    69: '#4270dd',\n",
    "    74: '#d44958',\n",
    "    76: '#3dae46',\n",
    "    81: '#a22bdd',\n",
    "    87: '#cc7929',\n",
    "    96: '#f0e521',\n",
    "    102: '#796f00'\n",
    "}\n",
    "COLS = 2\n",
    "SIZE = 5"
   ]
  },
  {
   "cell_type": "code",
   "execution_count": 4,
   "metadata": {},
   "outputs": [],
   "source": [
    "data = pd.read_csv(\"20201025_Dataset_plots_n216.csv\")\n",
    "for col in ['Ca', 'Cb', 'TChl']:\n",
    "    data[col] = data[col]*1000"
   ]
  },
  {
   "cell_type": "code",
   "execution_count": 5,
   "metadata": {},
   "outputs": [],
   "source": [
    "def findOptimalLoadings(X, y, maxLoadings):\n",
    "    scores = np.zeros((maxLoadings, 2))\n",
    "    for i in range(len(scores)):\n",
    "        ncomp = i+1\n",
    "        pls = PLSRegression(n_components=ncomp, scale=False) # range starts from 0\n",
    "        cv=10\n",
    "        scores[i] = ncomp, cross_val_score(pls, X, y, cv=cv, scoring='neg_mean_squared_error').sum()\n",
    "    # argrelmax instead of argelmin - looking for min MSE but scoring returns -MSE. So search for max -MSE\n",
    "    # argrelmax can return many minima. get the first local minima [0][0]\n",
    "    try:\n",
    "        min_ind = argrelmax(scores[:, 1])[0][0]\n",
    "    except IndexError: # no max\n",
    "        min_ind = 0\n",
    "    return scores[min_ind, 0].astype(int)"
   ]
  },
  {
   "cell_type": "code",
   "execution_count": 22,
   "metadata": {},
   "outputs": [],
   "source": [
    "_filter = True\n",
    "flagData = data[(data.LeafType == 'FlagLeaf')].copy()\n",
    "if _filter:\n",
    "    modifier = \"filter\"\n",
    "    flagData = flagData.drop(columns=map(str, range(329, 400)))\n",
    "else:\n",
    "    modifier = 'full'\n",
    "    flagData = flagData.drop(columns=map(str, range(329, 330)))\n",
    "wls_columns = flagData.columns[11:]\n",
    "flagData['Ratio'] = flagData.Ca/flagData.Cb\n",
    "param_data = flagData[flagData.columns.difference(wls_columns)]\n",
    "wls_data = flagData[wls_columns]\n",
    "cal, val = cal_val_split(param_data)"
   ]
  },
  {
   "cell_type": "code",
   "execution_count": 23,
   "metadata": {},
   "outputs": [],
   "source": [
    "def runModel(cal, val, predict, wls, maxLoadings=10):\n",
    "    '''\n",
    "    select the important variables for the model\n",
    "    cal - calibration set (boolean series)\n",
    "    val - validation set (boolean series)\n",
    "    predit - column containing variable to predict\n",
    "    wls - dataframe containing X variables of model (wavelengths)\n",
    "    loadings - max ammount of loadings in the PLS model\n",
    "    '''\n",
    "    name = predict.name\n",
    "    # R2, RMSE, is validation, is selection\n",
    "    dataStore = []\n",
    "    Xcal = wls[cal]\n",
    "    Xval = wls[val]\n",
    "    ycal = predict[cal]\n",
    "    yval = predict[val]\n",
    "    \n",
    "    loadings = findOptimalLoadings(Xcal, ycal, maxLoadings)\n",
    "    pls = PLSRegression(n_components = loadings, scale=False)\n",
    "    pls.fit(Xcal, ycal)\n",
    "    calPredict = pls.predict(Xcal)    \n",
    "    cal_r2 = pls.score(Xcal, ycal)\n",
    "    cal_rmse =  mse(ycal, calPredict, squared=False)\n",
    "    cal_rmspe = rmspe(ycal, cal_rmse)\n",
    "    \n",
    "    valPredict = pls.predict(Xval)\n",
    "    val_r2 = pls.score(Xval, yval)\n",
    "    val_rmse =  mse(yval, valPredict, squared=False)\n",
    "    val_rmspe = rmspe(yval, val_rmse)\n",
    "\n",
    "    dataStore.append([name, cal_r2, cal_rmse, cal_rmspe, val_r2, val_rmse, val_rmspe])\n",
    "    estimates = pd.concat([pd.DataFrame({'obs': obs,\n",
    "                               'pred': pred,\n",
    "                               'Type': np.full(obs.shape, name),\n",
    "                               'cal': np.full(obs.shape, cal)})\n",
    "                 for obs, pred, cal in ((ycal ,calPredict.flatten(), 1),(yval ,valPredict.flatten(), 0))])\n",
    "    estimates.index.name = 'org_index'\n",
    "    estimates = estimates.reset_index()\n",
    "    coefs = pd.DataFrame(columns=wls.columns, data=pls.coef_.reshape(1, -1))\n",
    "    coefs['Type'] = name\n",
    "\n",
    "    collection = pd.DataFrame(data=dataStore, columns=['Type', 'R2C', 'RMSEC', 'RMSPEC', 'R2V', 'RMSEV', 'RMSPEV'])\n",
    "    return collection, estimates, coefs"
   ]
  },
  {
   "cell_type": "code",
   "execution_count": 24,
   "metadata": {},
   "outputs": [],
   "source": [
    "def populateModels(cal, val, predicteds, excluders, wls):\n",
    "    '''\n",
    "    run model based on the same cal-val split for all the predicteds values\n",
    "    cal - calibration boolean series selector\n",
    "    val - validation boolean series selector\n",
    "    predicteds - dataframe in which each column is to be predicteds\n",
    "    excluders = dataframe in which each column can be used to exclude samples (union with cal & val)\n",
    "    wls - X variables (wavelenghts).\n",
    "    ====\n",
    "    predictes, excluders & wls come from the same original dataframe, flagData\n",
    "    CAUTION! This function has HARD-CODED exclusions that change the cal/val split or remove points\n",
    "    '''\n",
    "    estimate_data = []\n",
    "    stats = []\n",
    "    coef_data = []\n",
    "    for col, predict in predicteds.iteritems():\n",
    "        include = ~(excluders.NotAnalizedFor == col) # if True should stay\n",
    "        ncal = cal & include\n",
    "        nval = val & include\n",
    "        if col == 'Cb':\n",
    "            switcher = (excluders.Plots == 517) & (excluders.DAT == 81) \n",
    "            ncal = ncal & ~switcher # turn off switcher\n",
    "            nval = nval | switcher # turn on switcher\n",
    "\n",
    "        data, estimates, coefs =  runModel(ncal, nval, predict, wls)\n",
    "        coef_data.append(coefs)\n",
    "        stats.append(data)\n",
    "        estimate_data.append(estimates)\n",
    "    \n",
    "    all_stats = pd.concat(stats, ignore_index=True)\n",
    "    all_coefs = pd.concat(coef_data, ignore_index=True)\n",
    "    all_estimates = pd.concat(estimate_data, ignore_index=True)\n",
    "    return all_stats, all_estimates, all_coefs\n"
   ]
  },
  {
   "cell_type": "code",
   "execution_count": 25,
   "metadata": {},
   "outputs": [],
   "source": [
    "predicteds = param_data[['Ca', 'Cb', 'TChl']]\n",
    "excluders = param_data[['Plots', 'DAT', 'NotAnalizedFor']]\n",
    "stats, estimates, coefs = populateModels(cal, val, predicteds, excluders, wls_data)"
   ]
  },
  {
   "cell_type": "code",
   "execution_count": 26,
   "metadata": {},
   "outputs": [],
   "source": [
    "dated_estimates = estimates.join(param_data.DAT, on='org_index').drop(columns = ['org_index'])"
   ]
  },
  {
   "cell_type": "code",
   "execution_count": 43,
   "metadata": {},
   "outputs": [],
   "source": [
    "SAVE_CSV = True\n",
    "if SAVE_CSV:\n",
    "    coefs.to_csv(f\"./coef tables/{modifier}_coefs.csv\", \",\", index=False)\n",
    "    stats.to_csv(f\"./model_stats/{modifier}_stats_table.csv\", index=False)\n",
    "    dated_estimates.to_csv(f\"./model_stats/{modifier}_scatter_table.csv\", index=False)"
   ]
  },
  {
   "cell_type": "code",
   "execution_count": 12,
   "metadata": {},
   "outputs": [],
   "source": [
    "def drawCoefs(ax, coefs):\n",
    "    full_wls = coefs.columns.astype(int)\n",
    "    lmin, lmax = full_wls.min(), full_wls.max()\n",
    "    coef_min = coefs.min()\n",
    "    coef_max = coefs.max()*1.2\n",
    "    xticks = list(range(lmin, lmax, 40)) + [790]\n",
    "    ax.set_xlim(lmin, lmax)\n",
    "    ax.set_xticks(xticks)\n",
    "    ax.tick_params(axis='x', labelrotation=45)\n",
    "    ax.set_ylabel(f\"Coefficient\", fontsize='x-large')\n",
    "    ax.set_xlabel(\"Wavelength (nm)\",  fontsize='x-large')\n",
    "    ax.tick_params(labelsize='x-large')\n",
    "    sns.lineplot(x=full_wls, y=coefs.iloc[0], ax=ax)"
   ]
  },
  {
   "cell_type": "code",
   "execution_count": 13,
   "metadata": {},
   "outputs": [],
   "source": [
    "def makeLegend(legend):\n",
    "    _size = 16\n",
    "    handels = [lines.Line2D([], [], markerfacecolor='none', markeredgecolor='black', markersize=_size, marker='o', linestyle='None', label='Calibration'), \n",
    "                   lines.Line2D([], [], color='black', markersize=_size, marker='+', linestyle='None', label='Validation')]\n",
    "    return handels+[lines.Line2D([], [], color=color, markersize=_size, marker='.', linestyle='None', label=name) for name, color in legend.items()]\n",
    "\n",
    "def finalFig(drawFinals, stats, all_estimates, all_coefs, filename):\n",
    "    rows = len(stats.Type)\n",
    "    # top, bottom, left, right are coordinates\n",
    "    spec = {\"width_ratios\":[1, 2], 'hspace': 0.25, 'bottom': 0.2, 'top': 0.98, 'left': 0.08, 'right': 0.95} \n",
    "    fig, axes = plt.subplots(rows, COLS, figsize=(SIZE*3, SIZE*rows), gridspec_kw = spec)\n",
    "    \n",
    "    \n",
    "    nextNumber = 1\n",
    "    ax = 0\n",
    "    for predict in stats.Type:\n",
    "        naxes = axes[ax]\n",
    "        data = stats[stats.Type == predict]\n",
    "        estimates = all_estimates[all_estimates.Type == predict]\n",
    "        coefs = all_coefs[all_coefs.Type == predict]\n",
    "        # same predict plots are one below the other instread of side by side\n",
    "        # add and remove cols from next number to comply with this\n",
    "        nextNumber = drawFinals(naxes, data, estimates, coefs, \n",
    "                                predict, num=nextNumber)\n",
    "        ax += 1\n",
    "\n",
    "    handles = makeLegend(COLORS)\n",
    "    plt.figlegend(handles=handles, loc=\"lower center\", ncol=len(handles), fontsize='large', bbox_to_anchor=(0.5, 0.1))\n",
    "    txt = \"(A)-(B) are for the chlorophyl a content, (C)-(D) are for chlorophyl b content and (E)-(F) are for total chlorophyl content.\\n(A), (C), (E) are y-y plots for the PLS models. Statistics shown for model validation.\\nLine of optimal fit is colored green, line of best fit for the validation data is colored red.\\n(B), (D), (F) are coeffient plots of the wavelengths used in the model.\"\n",
    "    fig.text(0.02, 0.02, txt, fontsize='large')\n",
    "    \n",
    "    plt.savefig(f'./graphs/{filename}.png')\n",
    "    #plt.show()\n",
    "    plt.close()"
   ]
  },
  {
   "cell_type": "code",
   "execution_count": 14,
   "metadata": {},
   "outputs": [],
   "source": [
    "def finalGraphs(dates, colors):\n",
    "    ''' supply inner function with location of flag leaf internal and external'''\n",
    "    lx = 0.05\n",
    "    ly = 0.93\n",
    "    markers = {'cal': 'o', 'val': '+'}\n",
    "    alpha=0.6\n",
    "    units = r'($\\mu gcm^{-2}$)'\n",
    "    predict_text = {\n",
    "        'Ca': 'Chl-a',\n",
    "        'Cb': 'Chl-b',\n",
    "        'TChl': 'TChl'\n",
    "    }\n",
    "    def inner(axes, data, estimates, coefs, predict, num):\n",
    "        # valid and calib alpha & selected vars are the same. The plots expect the valid dataset\n",
    "\n",
    "        est_cal = estimates[estimates.cal == 1]\n",
    "        est_val = estimates[estimates.cal == 0]\n",
    "        ax0 = axes[0]\n",
    "        ax0.set_xlabel(f\"Observed {predict_text[predict]} {units}\", fontsize='large')\n",
    "        ax0.set_ylabel(f\"Predicted {predict_text[predict]} {units}\", fontsize='large' )\n",
    "        ax0.set_aspect(adjustable='box', aspect='equal')\n",
    "        ax0.tick_params(labelsize='large')\n",
    "        \n",
    "        axLetter = chr(ord('`')+num)\n",
    "        num += 1\n",
    "\n",
    "        date_names = dates.unique()\n",
    "        for date in date_names:\n",
    "            date_indices = dates[dates == date].index\n",
    "            date_cal = est_cal[est_cal.org_index.isin(date_indices)]\n",
    "            date_val = est_val[est_val.org_index.isin(date_indices)]\n",
    "            y_cal = date_cal.obs\n",
    "            y_val = date_val.obs\n",
    "            y_cal_hat = date_cal.pred\n",
    "            y_val_hat = date_val.pred\n",
    "            \n",
    "            ax0.scatter(y_cal, y_cal_hat, facecolors='none', edgecolors=colors[date], marker=markers['cal'], alpha=alpha)\n",
    "            ax0.scatter(y_val, y_val_hat, color=colors[date], marker=markers['val'], alpha=alpha)\n",
    "        \n",
    "        z_cal = np.polyfit(est_cal.obs, est_cal.pred, 1)\n",
    "        z_val = np.polyfit(est_val.obs, est_val.pred, 1)\n",
    "        \n",
    "        ax0.plot(*get_line_ends(est_cal.obs, np.polyval(z_cal, est_cal.obs)), color='black', linestyle=\"solid\", linewidth=1)\n",
    "        ax0.plot(*get_line_ends(est_val.obs, np.polyval(z_val, est_val.obs)), color='black', linestyle=(0, (5, 10)), linewidth=1)\n",
    "        \n",
    "        ax0.plot((0, 1), (0, 1), linewidth=1, c='black', linestyle='dotted', transform=ax0.transAxes)\n",
    "        ax0.set_yticks(ax0.get_xticks())\n",
    "        ax0.set_ylim(ax0.get_xlim())\n",
    "        \n",
    "        R2C_str = r\"─── $Cal: {R}^{2}$\"\n",
    "        R2V_str = r\"─ ─ $Val: {R}^{2}$\"\n",
    "        R2C = data.R2C.iloc[0]\n",
    "        R2V = data.R2V.iloc[0]\n",
    "        ax0.text(0.53, 0.1, f\"{R2C_str}={R2C:.2f}\\n{R2V_str}={R2V:.2f}\", fontsize='large', transform=ax0.transAxes)\n",
    "        ax0.text(lx, ly, f\"{axLetter}\", weight='bold', fontsize='large', transform=ax0.transAxes)\n",
    "        \n",
    "        ax1 = axes[1]\n",
    "        axLetter = chr(ord('`')+num)\n",
    "        ax1.text(lx, ly, f\"{axLetter}\", weight='bold', fontsize='large', transform=ax1.transAxes)\n",
    "        ax1.tick_params(labelsize='large')\n",
    "        drawCoefs(ax1, coefs.drop(columns=['Type']))\n",
    "        \n",
    "        return num+1 # multiply cols by the number of plots\n",
    "    return inner"
   ]
  },
  {
   "cell_type": "code",
   "execution_count": 18,
   "metadata": {},
   "outputs": [],
   "source": [
    "drawFinals = finalGraphs(param_data['DAT'], COLORS)\n",
    "finalFig(drawFinals, stats, estimates, coefs, f\"{modifier}_graph_6_tiles\")"
   ]
  },
  {
   "cell_type": "markdown",
   "metadata": {},
   "source": [
    "## Ratio based on models"
   ]
  },
  {
   "cell_type": "code",
   "execution_count": 28,
   "metadata": {},
   "outputs": [],
   "source": [
    "remove_514 = param_data[((param_data.Plots == 514) & (param_data.DAT == 81))].index[0]\n",
    "switch_517 = param_data[((param_data.Plots == 517) & (param_data.DAT == 81))].index[0]\n",
    "iestimates = estimates.set_index('org_index')\n",
    "ca_sel = iestimates.Type == 'Ca'\n",
    "cb_sel = iestimates.Type == 'Cb'\n",
    "cal_sel = iestimates.cal == 1\n",
    "ProtoCaCal = iestimates[ca_sel & cal_sel]\n",
    "ProtoCaVal = iestimates[ca_sel & ~cal_sel]\n",
    "CbCal = iestimates[cb_sel & cal_sel]\n",
    "CbVal = iestimates[cb_sel & ~cal_sel]\n",
    "# remove 514 from CaVal\n",
    "# move 517 from CaCal to CaVal\n",
    "CaVal = ProtoCaVal.drop(index=remove_514)\n",
    "CaVal.loc[switch_517] = ProtoCaCal.loc[switch_517]\n",
    "CaCal = ProtoCaCal.drop(index=switch_517)\n",
    "ratio_data = param_data[['Ca', 'Cal_Val', 'Cb', 'DAT', 'Ratio', 'Treatment', 'Genotype']].copy()\n",
    "ratio_data.loc[switch_517, 'Cal_Val'] = 'Val' # switch 517 to Val\n",
    "cal_ratio_predict = CaCal.pred/CbCal.pred\n",
    "val_ratio_predict = CaVal.pred/CbVal.pred\n",
    "ratio_data.loc[ratio_data.Cal_Val == 'Cal', 'Pred_Ratio'] = cal_ratio_predict\n",
    "ratio_data.loc[ratio_data.Cal_Val == 'Val', 'Pred_Ratio'] = val_ratio_predict\n",
    "averaged_ratio = ratio_data.groupby(['DAT', 'Treatment', 'Genotype']).agg({'Ratio': 'mean', 'Pred_Ratio': 'mean'}).reset_index()\n",
    "ratio_data['edgecolors'] = ratio_data.DAT.map(COLORS)\n",
    "ratio_data['facecolors'] = ratio_data.apply(lambda row: row.edgecolors if row.Treatment == 'WW' else \"none\", axis=1)\n",
    "averaged_ratio['edgecolors'] = averaged_ratio.DAT.map(COLORS)\n",
    "averaged_ratio['facecolors'] = averaged_ratio.apply(lambda row: row.edgecolors if row.Treatment == 'WW' else \"none\", axis=1)"
   ]
  },
  {
   "cell_type": "code",
   "execution_count": 44,
   "metadata": {},
   "outputs": [],
   "source": [
    "if SAVE_CSV:\n",
    "    val_ratio_data[['Ratio', 'Pred_Ratio', 'Treatment', 'DAT']].to_csv(f\"./model_stats/{modifier}_val_ratio.csv\", index=False)\n",
    "    averaged_ratio[['Ratio', 'Pred_Ratio', 'Treatment', 'DAT']].to_csv(f\"./model_stats/{modifier}_avg_ratio.csv\", index=False)"
   ]
  },
  {
   "cell_type": "code",
   "execution_count": 29,
   "metadata": {},
   "outputs": [],
   "source": [
    "val_ratio_data = ratio_data[(ratio_data.Cal_Val == 'Val') & (~ratio_data.Pred_Ratio.isna())]\n",
    "avg_ratio = averaged_ratio.Ratio\n",
    "avg_pred_ratio = averaged_ratio.Pred_Ratio\n",
    "avg_slope, avg_intercept, _, avg_p, _ = linregress(avg_ratio, avg_pred_ratio)\n",
    "avg_r2 = 1-((((avg_ratio-avg_pred_ratio)**2).sum())/(((avg_ratio-avg_ratio.mean())**2).sum()))\n",
    "avg_rmse = mse(avg_ratio, avg_pred_ratio, squared=False)\n",
    "avg_minmax = np.array([avg_ratio.min(), avg_ratio.max()])\n",
    "\n",
    "val_ratio = val_ratio_data.Ratio\n",
    "val_pred_ratio = val_ratio_data.Pred_Ratio\n",
    "val_slope, val_intercept, _, val_p, _ = linregress(val_ratio, val_pred_ratio)\n",
    "val_r2 = 1-((((val_ratio-val_pred_ratio)**2).sum())/(((val_ratio-val_ratio.mean())**2).sum()))\n",
    "val_rmse = mse(val_ratio, val_pred_ratio, squared=False)\n",
    "val_minmax = np.array([val_ratio.min(), val_ratio.max()])\n",
    "\n",
    "R2_str = r\"${R}^{2}$\"\n",
    "fig, axes = plt.subplots(nrows=1, ncols=2, figsize=(10, 6))\n",
    "ax0 = axes[0]\n",
    "ax = axes[1]\n",
    "ax0.set_xlabel('Chl-a:b (observed)', fontsize='large')\n",
    "ax0.set_ylabel('Chl-a:b (best PLSR)', fontsize='large')\n",
    "ax0.set_aspect(adjustable='datalim', aspect='equal')\n",
    "ax.set_xlabel('Chl-a:b (observed)', fontsize='large')\n",
    "ax.set_ylabel('Chl-a:b (best PLSR)', fontsize='large')\n",
    "ax.set_aspect(adjustable='datalim', aspect='equal')\n",
    "\n",
    "\n",
    "ax0.scatter(x=val_ratio, y=val_pred_ratio, color=val_ratio_data.edgecolors, facecolor=val_ratio_data.facecolors)\n",
    "ax0.plot([0, 1], [0, 1], color='black', linestyle='dotted', transform=ax0.transAxes) # 1:1 line\n",
    "ax0.plot(val_minmax, val_minmax*val_slope+val_intercept, color='black') # regression line\n",
    "ax0.text(s='a', x=0.02, y=0.95, weight='bold', fontsize='large', transform=ax0.transAxes)\n",
    "ax0.text(s=f\"n = {len(val_ratio_data)}\\n{R2_str} = {val_r2:.2f}\\nRMSE: {val_rmse:.2f}\\np<0.0001\", fontsize='large',\\\n",
    "         x=0.02, y=0.7, transform=ax0.transAxes)\n",
    "ax0.set_yticks(ax0.get_xticks())\n",
    "ax0.tick_params(labelsize='large')\n",
    "\n",
    "ax.scatter(x=avg_ratio, y=avg_pred_ratio, color=averaged_ratio.edgecolors, facecolor=averaged_ratio.facecolors)\n",
    "ax.plot([0, 1], [0, 1], color='black', linestyle='dotted', transform=ax.transAxes) # 1:1 line\n",
    "ax.plot(avg_minmax, avg_minmax*avg_slope+avg_intercept, color='black') # regression line\n",
    "ax.text(s='b', x=0.02, y=0.95, weight='bold', fontsize='large', transform=ax.transAxes)\n",
    "ax.text(s=f\"n = {len(averaged_ratio)}\\n{R2_str} = {avg_r2:.2f}\\nRMSE: {avg_rmse:.2f}\\np<0.0001\", fontsize='large',\\\n",
    "        x=0.02, y=0.7, transform=ax.transAxes)\n",
    "ax.set_yticks(ax.get_xticks())\n",
    "ax.tick_params(labelsize='large')\n",
    "\n",
    "handles = [lines.Line2D([], [], markerfacecolor='none', markersize=16, markeredgecolor='black', marker='o', linestyle='None', label='WL'), \n",
    "                   lines.Line2D([], [], color='black', markersize=16, marker='o', linestyle='None', label='WW')]\n",
    "handles += [lines.Line2D([], [], color=color, markersize=16, marker='.', linestyle='None', label=f'{name} DAT') for name, color in COLORS.items()]\n",
    "plt.figlegend(handles=handles, loc=\"lower center\", ncol=len(handles), bbox_to_anchor=(0.5, 0.15))\n",
    "#fig.tight_layout()\n",
    "fig.subplots_adjust(bottom=0.3)\n",
    "fig.text(0.02, 0.02, '''1:1 graph of the relationship between observed Chl-a:b vs PLSR predicted Chl-a:b (i.e. Chl-a:b calculated from the best performing PLSR for Chl-a and Chl-b separately).\n",
    "(a) presents result from calibration model on the 30 % validation dataset, and \n",
    "(b) presents averaged dataset from calibration model on all (100%) the dataset.''', fontsize='large', wrap=True)\n",
    "plt.axis('square')\n",
    "plt.savefig(f'./graphs/{modifier}_ratio.png')"
   ]
  },
  {
   "cell_type": "code",
   "execution_count": 306,
   "metadata": {},
   "outputs": [],
   "source": [
    "plt.close()"
   ]
  },
  {
   "cell_type": "code",
   "execution_count": 326,
   "metadata": {},
   "outputs": [
    {
     "data": {
      "text/plain": [
       "0.10852727272727103"
      ]
     },
     "execution_count": 326,
     "metadata": {},
     "output_type": "execute_result"
    }
   ],
   "source": [
    "bbox = ax0.get_window_extent().transformed(fig.dpi_scale_trans.inverted())\n",
    "width, height = bbox.width, bbox.height\n",
    "(width-height)*2.54"
   ]
  },
  {
   "cell_type": "code",
   "execution_count": null,
   "metadata": {},
   "outputs": [],
   "source": []
  }
 ],
 "metadata": {
  "kernelspec": {
   "display_name": "Python 3 (ipykernel)",
   "language": "python",
   "name": "python3"
  },
  "language_info": {
   "codemirror_mode": {
    "name": "ipython",
    "version": 3
   },
   "file_extension": ".py",
   "mimetype": "text/x-python",
   "name": "python",
   "nbconvert_exporter": "python",
   "pygments_lexer": "ipython3",
   "version": "3.8.10"
  }
 },
 "nbformat": 4,
 "nbformat_minor": 4
}
