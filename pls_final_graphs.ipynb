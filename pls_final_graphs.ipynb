{
 "cells": [
  {
   "cell_type": "code",
   "execution_count": 1,
   "metadata": {},
   "outputs": [],
   "source": [
    "import math\n",
    "import numpy as np\n",
    "import pandas as pd\n",
    "import matplotlib.pyplot as plt\n",
    "from matplotlib import lines\n",
    "import matplotlib.collections as collections\n",
    "from mpl_toolkits.mplot3d import Axes3D\n",
    "import seaborn as sns\n",
    "from sklearn.cross_decomposition import PLSRegression\n",
    "from sklearn.model_selection import cross_val_score\n",
    "# mape is from scikit V0.24, unstable, taken from nightly build\n",
    "from sklearn.metrics import r2_score, mean_squared_error as mse, mean_absolute_percentage_error as mape\n",
    "from scipy.stats import f, pearsonr, linregress\n",
    "from scipy.signal import argrelmax"
   ]
  },
  {
   "cell_type": "code",
   "execution_count": null,
   "metadata": {},
   "outputs": [],
   "source": [
    "from HottelingT2 import selectVars\n",
    "from helpers import cal_val_split, rmspe, get_line_ends\n",
    "from stats import nromalized_wls, rmspe, calc_error, ratio_ratio_r"
   ]
  },
  {
   "cell_type": "code",
   "execution_count": 2,
   "metadata": {},
   "outputs": [],
   "source": [
    "COLORS = {\n",
    "    #57: '#ff98a6',\n",
    "    #64: '#3dae46',\n",
    "    69: '#4270dd',\n",
    "    74: '#d44958',\n",
    "    76: '#3dae46',\n",
    "    81: '#a22bdd',\n",
    "    87: '#cc7929',\n",
    "    96: '#f0e521',\n",
    "    102: '#796f00'\n",
    "}\n",
    "ROWS = 3\n",
    "COLS = 3\n",
    "SIZE = 4"
   ]
  },
  {
   "cell_type": "code",
   "execution_count": 3,
   "metadata": {},
   "outputs": [],
   "source": [
    "data = pd.read_csv(\"20201025_Dataset_plots_n216.csv\")\n",
    "for col in ['Ca', 'Cb', 'TChl']:\n",
    "    data[col] = data[col]*1000"
   ]
  },
  {
   "cell_type": "code",
   "execution_count": 4,
   "metadata": {},
   "outputs": [
    {
     "data": {
      "text/html": [
       "<div>\n",
       "<style scoped>\n",
       "    .dataframe tbody tr th:only-of-type {\n",
       "        vertical-align: middle;\n",
       "    }\n",
       "\n",
       "    .dataframe tbody tr th {\n",
       "        vertical-align: top;\n",
       "    }\n",
       "\n",
       "    .dataframe thead th {\n",
       "        text-align: right;\n",
       "    }\n",
       "</style>\n",
       "<table border=\"1\" class=\"dataframe\">\n",
       "  <thead>\n",
       "    <tr style=\"text-align: right;\">\n",
       "      <th></th>\n",
       "      <th>DAT</th>\n",
       "    </tr>\n",
       "    <tr>\n",
       "      <th>LeafType</th>\n",
       "      <th></th>\n",
       "    </tr>\n",
       "  </thead>\n",
       "  <tbody>\n",
       "    <tr>\n",
       "      <th>FlagLeaf</th>\n",
       "      <td>[69, 74, 76, 81, 87, 96, 102]</td>\n",
       "    </tr>\n",
       "    <tr>\n",
       "      <th>FullyDeveloped</th>\n",
       "      <td>[57, 64]</td>\n",
       "    </tr>\n",
       "  </tbody>\n",
       "</table>\n",
       "</div>"
      ],
      "text/plain": [
       "                                          DAT\n",
       "LeafType                                     \n",
       "FlagLeaf        [69, 74, 76, 81, 87, 96, 102]\n",
       "FullyDeveloped                       [57, 64]"
      ]
     },
     "execution_count": 4,
     "metadata": {},
     "output_type": "execute_result"
    }
   ],
   "source": [
    "data.groupby('LeafType').agg({'DAT': 'unique'})"
   ]
  },
  {
   "cell_type": "code",
   "execution_count": 5,
   "metadata": {},
   "outputs": [],
   "source": [
    "def findOptimalLoadings(X, y, maxLoadings):\n",
    "    scores = np.zeros((maxLoadings, 2))\n",
    "    for i in range(len(scores)):\n",
    "        ncomp = i+1\n",
    "        pls = PLSRegression(n_components=ncomp, scale=False) # range starts from 0\n",
    "        cv=10\n",
    "        scores[i] = ncomp, cross_val_score(pls, X, y, cv=cv, scoring='neg_mean_squared_error').sum()\n",
    "    # argrelmax instead of argelmin - looking for min MSE but scoring returns -MSE. So search for max -MSE\n",
    "    # argrelmax can return many minima. get the first local minima [0][0]\n",
    "    try:\n",
    "        min_ind = argrelmax(scores[:, 1])[0][0]\n",
    "    except IndexError: # no max\n",
    "        min_ind = 0\n",
    "    return scores[min_ind, 0].astype(int)"
   ]
  },
  {
   "cell_type": "code",
   "execution_count": 6,
   "metadata": {},
   "outputs": [],
   "source": [
    "flagData = data[(data.LeafType == 'FlagLeaf')].copy()\n",
    "flagData = flagData.drop(columns=map(str, range(329, 400)))\n",
    "wls_columns = flagData.columns[11:]\n",
    "flagData['Ratio'] = flagData.Ca/flagData.Cb\n",
    "param_data = flagData[flagData.columns.difference(wls_columns)]\n",
    "wls_data = flagData[wls_columns]\n",
    "cal, val = cal_val_split(param_data)"
   ]
  },
  {
   "cell_type": "raw",
   "metadata": {},
   "source": [
    "#wl_variance_norm = cleanData[wls_columns].apply(lambda col: col.var()/col.mean())\n",
    "#wl_variance_norm.describe()\n",
    "#values = cleanData[wls_columns].T\n",
    "#plt.plot(wls_columns.astype(int), values)\n",
    "#plt.plot(wls_columns.astype(int), wl_variance_norm, linestyle='--')\n",
    "#plt.vlines(wl_variance_norm.sort_values()[0:30].index.astype(int), 0, 1, colors=['red'])\n",
    "#plt.show()"
   ]
  },
  {
   "cell_type": "code",
   "execution_count": 7,
   "metadata": {},
   "outputs": [],
   "source": [
    "def runModel(cal, val, predict, wls, maxLoadings=10, alpha=[0.2, 0.15, 0.1, 0.05, 0.01]):\n",
    "    '''\n",
    "    select the important variables for the model\n",
    "    cal - calibration set (boolean series)\n",
    "    val - validation set (boolean series)\n",
    "    predit - column containing variable to predict\n",
    "    wls - dataframe containing X variables of model (wavelengths)\n",
    "    loadings - max ammount of loadings in the PLS model\n",
    "    '''\n",
    "    \n",
    "    # R2, RMSE, is validation, is selection\n",
    "    dataStore = []\n",
    "    Xcal = wls[cal]\n",
    "    Xval = wls[val]\n",
    "    ycal = predict[cal]\n",
    "    yval = predict[val]\n",
    "    loadings = findOptimalLoadings(Xcal, ycal, maxLoadings)\n",
    "    pls = PLSRegression(n_components = loadings, scale=False)\n",
    "    pls.fit(Xcal, ycal)\n",
    "    calPredict = pls.predict(Xcal)\n",
    "    valPredict = pls.predict(Xval)\n",
    "    rmse =  mse(ycal, calPredict, squared=False)\n",
    "    dataStore.append([predict.name, pls.score(Xcal, ycal),rmse, rmspe(ycal, rmse), wls.columns.to_numpy(), len(wls.columns), 0, 0, None])\n",
    "    \n",
    "    weights = pls.x_weights_\n",
    "    \n",
    "    K = np.zeros((len(alpha), 8))\n",
    "    V = []\n",
    "    predicts = []\n",
    "    coefs = []\n",
    "    models = []\n",
    "    for i, a in enumerate(alpha):\n",
    "        selected = selectVars(weights, wls, alpha=a)\n",
    "        if len(selected.columns) < 2:\n",
    "            continue\n",
    "        t2_Xcal = selected[cal]\n",
    "        t2_Xval = selected[val]\n",
    "        t2_loadings = findOptimalLoadings(t2_Xcal, ycal, np.min([maxLoadings, len(selected.columns)-1]))\n",
    "        t2_pls = PLSRegression(n_components = t2_loadings, scale=False)\n",
    "        t2_pls.fit(t2_Xcal, ycal)\n",
    "        score_cal = t2_pls.score(t2_Xcal, ycal)\n",
    "        yhat_cal = t2_pls.predict(t2_Xcal)\n",
    "        rmse_cal = mse(ycal, yhat_cal, squared=False)\n",
    "        rmspe_cal = rmspe(ycal, rmse_cal)\n",
    "        \n",
    "        score = t2_pls.score(t2_Xval, yval)\n",
    "        yhat = t2_pls.predict(t2_Xval)\n",
    "        rmse = mse(yval, yhat, squared=False)\n",
    "        rmspe_val = rmspe(yval, rmse)\n",
    "        K[i] = score_cal, rmse_cal, rmspe_cal,  score, rmse, rmspe_val, len(selected.columns), a\n",
    "        V.append(selected.columns)\n",
    "        predicts.append(((ycal ,yhat_cal.flatten()),(yval ,yhat.flatten())))\n",
    "        coefs.append((t2_pls.coef_))\n",
    "        models.append(t2_pls)\n",
    "    \n",
    "    # minimal RMSE\n",
    "    rmse_arr = K[:, 4]\n",
    "    rmse_arr = rmse_arr[rmse_arr != 0]\n",
    "    p = np.where(rmse_arr == np.min(rmse_arr))[0]\n",
    "    minData = K[p[0]]  \n",
    "    minVars = V[p[0]]\n",
    "    t2predicts = [pd.DataFrame({'obs': obs, 'pred': pred}) for obs, pred in predicts[p[0]]]\n",
    "    t2coefs = coefs[p[0]] #\n",
    "    t2model = models[p[0]] # chosen T2PLSR model\n",
    "\n",
    "    dataStore.append([predict.name, minData[0], minData[1], minData[2], minVars.to_numpy(),\n",
    "                      len(minVars), 0, 1, minData[7]]) # cal-sel\n",
    "    dataStore.append([predict.name, minData[3], minData[4], minData[5], minVars.to_numpy(),\n",
    "                      len(minVars), 1, 1, minData[7]]) # val-sel\n",
    "    collection = pd.DataFrame(data=dataStore, columns=['Type', 'R2', 'RMSE', 'RMSPE', 'vars', 'var_len', 'val',\n",
    "                                                       'selection', 'alpha'])\n",
    "    return collection, t2predicts, t2coefs, t2model"
   ]
  },
  {
   "cell_type": "code",
   "execution_count": 8,
   "metadata": {},
   "outputs": [],
   "source": [
    "def model_wls_coefs(data, coefs, filename):\n",
    "    print(filename)\n",
    "    arr = np.zeros((len(coefs), 2))\n",
    "    arr[:, 1] = coefs[:, 0]\n",
    "    arr[:, 0] = data.vars[1]\n",
    "    \n",
    "    df = pd.DataFrame(data=arr, columns=['wl', 'coef'])\n",
    "    df.to_csv(f\"./coef tables/{filename}.csv\", \",\", index=False)"
   ]
  },
  {
   "cell_type": "code",
   "execution_count": 9,
   "metadata": {},
   "outputs": [],
   "source": [
    "def populateModels(cal, val, predicteds, excluders, wls):\n",
    "    '''\n",
    "    run model based on the same cal-val split for all the predicteds values\n",
    "    cal - calibration boolean series selector\n",
    "    val - validation boolean series selector\n",
    "    predicteds - dataframe in which each column is to be predicteds\n",
    "    excluders = dataframe in which each column can be used to exclude samples (union with cal & val)\n",
    "    wls - X variables (wavelenghts).\n",
    "    ====\n",
    "    predictes, excluders & wls come from the same original dataframe, flagData\n",
    "    CAUTION! This function has HARD-CODED exclusions that change the cal/val split or remove points\n",
    "    '''\n",
    "    keywords = ['data', 'T2Predict', 'coefs', 'models']\n",
    "    models = {}\n",
    "\n",
    "    for col, predict in predicteds.iteritems():\n",
    "        include = ~(excluders.NotAnalizedFor == col) # if True should stay\n",
    "        ncal = cal & include\n",
    "        nval = val & include\n",
    "        if col == 'Cb':\n",
    "            switcher = (excluders.Plots == 517) & (excluders.DAT == 81) \n",
    "            ncal = ncal & ~switcher # turn off switcher\n",
    "            nval = nval | switcher # turn on switcher\n",
    "        # print(f\"predict: {col} cal: {cal.sum()} val: {val.sum()} ncal: {ncal.sum()} nval: {nval.sum()}\")\n",
    "        models[col] = dict(zip(keywords, runModel(ncal, nval, predict, wls)))\n",
    "    return models\n"
   ]
  },
  {
   "cell_type": "code",
   "execution_count": 10,
   "metadata": {},
   "outputs": [],
   "source": [
    "def drawCoefs(ax, wls, coefs, Xvars, units):\n",
    "    full_wls = Xvars.columns.astype(int)\n",
    "    lmin, lmax = full_wls.min(), full_wls.max()\n",
    "    coef_min = coefs.min()\n",
    "    coef_max = coefs.max()*1.2\n",
    "    ax.set_xlim(lmin, lmax)\n",
    "    xticks = np.arange(lmin, lmax, math.floor((lmax-lmin)/10))\n",
    "    ax.set_xticks(xticks)\n",
    "    ax.tick_params(axis='x', labelrotation=45)\n",
    "    ax.set_ylabel(f\"Coefficient {units}\")\n",
    "    ax.set_xlabel(\"Wavelength (nm)\")\n",
    "    ax.scatter(wls.astype(int), coefs, marker='.')\n",
    "\n",
    "def drawFiltered(ax, data, selected, alpha):\n",
    "    wls = data.columns.astype(int)\n",
    "    lmin, lmax = wls.min(), wls.max()\n",
    "    ax.set_xlim(lmin, lmax)\n",
    "    xticks = np.arange(lmin, lmax, math.floor((lmax-lmin)/10))\n",
    "    ax.set_xticks(xticks)\n",
    "    ax.tick_params(axis='x', labelrotation=45)\n",
    "    ax.set_ylabel('Reflectance spectra')\n",
    "    ax.set_xlabel('Wavelength (nm)')\n",
    "    \n",
    "    ax.plot(wls, data.T)\n",
    "    wls = np.arange(lmin, lmax, 1)\n",
    "    ix = np.in1d(wls, selected)\n",
    "    collection = collections.BrokenBarHCollection.span_where(\n",
    "    wls, ymin=0, ymax=ax.get_ylim()[1], where=ix == False, facecolor='red', alpha=0.3) # mark the non-selected\n",
    "    ax.add_collection(collection)\n",
    "    alph = r\"$\\alpha$\"\n",
    "    ax.text(0.02, 0.8, f\"{alph} = {alpha}\\nselected wavelengths = {len(selected)}\", transform=ax.transAxes)\n",
    "\n",
    "def makeLegend(legend):\n",
    "    handels = [lines.Line2D([], [], markerfacecolor='none', markeredgecolor='black', marker='o', linestyle='None', label='Calibration'), \n",
    "                   lines.Line2D([], [], color='black', marker='+', linestyle='None', label='Validation')]\n",
    "    return handels+[lines.Line2D([], [], color=color, marker='.', linestyle='None', label=name) for name, color in legend.items()]\n",
    "\n",
    "def finalFig(drawFinals, analysis, param_data, filename):\n",
    "    rows = len(analysis)\n",
    "    fig, axes = plt.subplots(rows, COLS, figsize=((SIZE*COLS, SIZE*rows)))\n",
    "    \n",
    "    nextNumber = 1\n",
    "    ax = 0\n",
    "    for key, results in analysis.items():\n",
    "        nextNumber = drawFinals(axes[ax], results['data'], results['models'], results['coefs'], \n",
    "                                param_data[key], num=nextNumber)\n",
    "        ax += 1\n",
    "\n",
    "    handles = makeLegend(COLORS)\n",
    "    plt.figlegend(handles=handles, loc=\"upper center\", ncol=len(handles), bbox_to_anchor=(0.5, 0.12))\n",
    "    fig.tight_layout()\n",
    "    fig.subplots_adjust(bottom=0.18)\n",
    "    fig.text(0.02, 0.02, \"(A)-(C) are for the chlorophyl a content, (D)-(F) are for chlorophyl b content and (G)-(I) are for total chlorophyl content.\\n(A), (D), (G) are y-y plots for the T2PLS models. Statistics shown for model validation.\\nLine of optimal fit is colored green, line of best fit for the validation data is colored red.\\n(B), (E), (H) are coeffient plots for each the selected wavelengths for the model.\\n(C), (F), (I) show the full spectra of the validation set. Filtered wavelengths have red background.\")\n",
    "    #plt.show()\n",
    "    plt.savefig(f'./graphs/{filename}.png')\n",
    "    plt.close()\n",
    "\n",
    "def ratio_graph(filename, cal, val, rmse):\n",
    "    alpha = 0.4\n",
    "    colors = {\n",
    "        'cal': 'blue',\n",
    "        'val': 'red'\n",
    "    }\n",
    "    fig, ax = plt.subplots(1, 1)\n",
    "    # plot the dots\n",
    "    # 0 -real data, 1 - model predicted\n",
    "    ax.scatter(cal[0], cal[1], color=colors['cal'], alpha=alpha, label=\"calib\")\n",
    "    ax.scatter(val[0], val[1], color=colors['val'], alpha=alpha, label=\"valid\")\n",
    "    # calculate best fit lines\n",
    "    z_cal = np.polyfit(cal[0], cal[1], 1)\n",
    "    z_val = np.polyfit(val[0], val[1], 1)\n",
    "\n",
    "    # plot best fit lines\n",
    "    # ax.plot(*get_line_ends(cal[0], np.polyval(z_cal, cal[0])), color='black', linestyle='solid', linewidth=1)\n",
    "    # ax.plot(*get_line_ends(val[0], np.polyval(z_val, val[0])), color='black', linestyle=(0, (5, 10)), linewidth=1)\n",
    "\n",
    "    # plot optimal fit line\n",
    "    ax.plot([0, 1], [0, 1], linewidth=1, c='black', linestyle='dotted', transform=ax.transAxes)\n",
    "\n",
    "    # calc R2s\n",
    "    R2C = r2_score(cal[0], cal[1])\n",
    "    R2V = r2_score(val[0], val[1])\n",
    "\n",
    "    # draw R2s\n",
    "    R2C_str = r\"─── $Cal: {R}^{2}$\"\n",
    "    R2V_str = r\"─ ─ $Val: {R}^{2}$\"\n",
    "    ax.text(0.55, 0.1, f\"{R2C_str}={R2C:.2f}\\n{R2V_str}={R2V:.2f}\", transform=ax.transAxes)\n",
    "    # labels\n",
    "    ax.set_xlabel(f\"Measured chl-a/chl-b\")\n",
    "    ax.set_ylabel(f\"Predicted chl-a/chl-b\")\n",
    "    ax.legend()\n",
    "    fig.suptitle(f\"Ratio prediction from Chl-a/b prediction. RMSE: {rmse:.2f}\")\n",
    "    fig.savefig(f\"./graphs/{filename}.png\")\n",
    "    plt.close()"
   ]
  },
  {
   "cell_type": "code",
   "execution_count": 11,
   "metadata": {},
   "outputs": [],
   "source": [
    "def finalGraphs(cal, val, groups, Xvars, colors):\n",
    "    ''' supply inner function with location of flag leaf internal and external'''\n",
    "    lx = 0.02\n",
    "    ly = 0.93\n",
    "    markers = {'cal': 'o', 'val': '+'}\n",
    "    alpha=0.6\n",
    "    units = r'($\\mu gcm^{-2}$)'\n",
    "    predict_text = {\n",
    "        'Ca': 'Chl-a',\n",
    "        'Cb': 'Chl-b',\n",
    "        'TChl': 'TChl',\n",
    "        'Ratio': 'Chl-a/Chl-b'\n",
    "    }\n",
    "    def inner(axes, data, t2model, coefs, predict, num):\n",
    "        # valid and calib alpha & selected vars are the same. The plots expect the valid dataset\n",
    "        valid_model_info = data.loc[(data['val'] == 1) & (data['selection'] == 1), [\"vars\", \"alpha\"]]\n",
    "        selected = valid_model_info.vars.iloc[0]\n",
    "        selected_alpha = valid_model_info.alpha.iloc[0]\n",
    "        \n",
    "        ax0 = axes[0]\n",
    "        ax0.set_xlabel(f\"Observed {predict_text[predict.name]} {units}\")\n",
    "        ax0.set_ylabel(f\"Predicted {predict_text[predict.name]} {units}\")\n",
    "        ax0.set_aspect(adjustable='box', aspect='equal') # MAYBE\n",
    "        \n",
    "        axLetter = chr(ord('`')+num)\n",
    "        num += 1\n",
    "        \n",
    "        real_cal = []\n",
    "        real_val = []\n",
    "        hat_cal = []\n",
    "        hat_val = []\n",
    "        group_names = groups.unique()\n",
    "        for name in group_names:\n",
    "            group_selector = groups == name\n",
    "            Xvars_cal = Xvars.loc[cal & group_selector, selected]\n",
    "            Xvars_val = Xvars.loc[val & group_selector, selected]\n",
    "            y_cal = predict[cal & group_selector]\n",
    "            y_val = predict[val & group_selector]\n",
    "            y_cal_hat = t2model.predict(Xvars_cal)\n",
    "            y_val_hat = t2model.predict(Xvars_val)\n",
    "            real_cal.append(y_cal)\n",
    "            real_val.append(y_val)\n",
    "            hat_cal.append(y_cal_hat)\n",
    "            hat_val.append(y_val_hat)\n",
    "            \n",
    "            ax0.scatter(y_cal, y_cal_hat, facecolors='none', edgecolors=colors[name], marker=markers['cal'], alpha=alpha)\n",
    "            ax0.scatter(y_val, y_val_hat, color=colors[name], marker=markers['val'], alpha=alpha)\n",
    "        \n",
    "        merged_truth = np.concatenate([*real_cal, *real_val])\n",
    "        merged_real_cal = np.concatenate(real_cal)\n",
    "        merged_hat_cal = np.concatenate(hat_cal)\n",
    "        merged_real_val = np.concatenate(real_val)\n",
    "        merged_hat_val = np.concatenate(hat_val)\n",
    "        R2V = data[data['val'] == 1].R2.iloc[0]\n",
    "        R2C = data[data['val'] == 0].R2.iloc[0]\n",
    "        #RMSPE = data[data['val'] == 1].RMSPE.iloc[0]\n",
    "        z_cal = np.polyfit(merged_real_cal, merged_hat_cal, 1)\n",
    "        z_val = np.polyfit(merged_real_val, merged_hat_val, 1)\n",
    "        \n",
    "        ax0.plot(*get_line_ends(merged_real_cal, np.polyval(z_cal, merged_real_cal)), color='black', linestyle=\"solid\", linewidth=1)\n",
    "        ax0.plot(*get_line_ends(merged_real_val, np.polyval(z_val, merged_real_val)), color='black', linestyle=(0, (5, 10)), linewidth=1)\n",
    "        #ax0.plot(merged_truth, merged_truth, linewidth=1, c='black', linestyle='dotted')\n",
    "        ax0.plot((0, 1), (0, 1), linewidth=1, c='black', linestyle='dotted', transform=ax0.transAxes)\n",
    "        ax0.set_yticks(ax0.get_xticks())\n",
    "        ax0.set_ylim(ax0.get_xlim())\n",
    "        print(ax0.get_xlim())\n",
    "        #ax0.set_xlim(merged_truth.min(), merged_truth.max())\n",
    "        #ax0.set_ylim(merged_truth.min(), merged_truth.max())\n",
    "        R2C_str = r\"─── $Cal: {R}^{2}$\"\n",
    "        R2V_str = r\"─ ─ $Val: {R}^{2}$\"\n",
    "        ax0.text(0.55, 0.1, f\"{R2C_str}={R2C:.2f}\\n{R2V_str}={R2V:.2f}\", transform=ax0.transAxes)\n",
    "        ax0.text(lx, ly, f\"{axLetter}\", weight='bold', transform=ax0.transAxes)\n",
    "        \n",
    "        ax1 = axes[1]\n",
    "        axLetter = chr(ord('`')+num)\n",
    "        ax1.text(lx, ly, f\"{axLetter}\", weight='bold', transform=ax1.transAxes)\n",
    "        num += 1\n",
    "        drawCoefs(ax1, selected, coefs.T[0], Xvars, units)\n",
    "        \n",
    "        ax2 = axes[2]\n",
    "        axLetter = chr(ord('`')+num)\n",
    "        ax2.text(lx, ly, f\"{axLetter}\", weight='bold', transform=ax2.transAxes)\n",
    "        num += 1\n",
    "        drawFiltered(ax2, Xvars[val], selected.astype(int), selected_alpha)\n",
    "        return num\n",
    "    return inner"
   ]
  },
  {
   "cell_type": "code",
   "execution_count": 12,
   "metadata": {},
   "outputs": [],
   "source": [
    "normalize_by = ['614', '525', '415', '406']\n",
    "datasets = { wl: wls_data.divide(wls_data[wl], axis=0) for wl in normalize_by }\n",
    "datasets['common'] = wls_data\n",
    "\n",
    "predicteds = param_data[['Ca', 'Cb', 'TChl']]#, 'Ratio']]\n",
    "excluders = param_data[['Plots', 'DAT', 'NotAnalizedFor']]"
   ]
  },
  {
   "cell_type": "code",
   "execution_count": 14,
   "metadata": {},
   "outputs": [],
   "source": [
    "models = {name: populateModels(cal, val, predicteds, excluders, dataset) for name, dataset in datasets.items()}"
   ]
  },
  {
   "cell_type": "raw",
   "metadata": {},
   "source": [
    "# only using Flag leaf data\n",
    "flagLeafData = data[(data['NotAnalizedFor'].isna()) & (data['LeafType'] == 'FlagLeaf')]\n",
    "cleanFlagLeaf = flagLeafData.drop(columns=map(str, range(329, 400)))\n",
    "calFlag = cleanFlagLeaf[cleanFlagLeaf['Cal_Val'] == 'Cal']\n",
    "valFlag = cleanFlagLeaf[cleanFlagLeaf['Cal_Val'] == 'Val']\n",
    "#Ca, Cb, TChl for FlagLeaf data only\n",
    "print(\"===FlagCa===\")\n",
    "Flag_CaData, Flag_CaT2Predict, Flag_CaCoefs, Flag_CaModels = runModel(calFlag, valFlag, 'Ca')\n",
    "print(\"===FlagCb===\")\n",
    "Flag_CbData, Flag_CbT2Predict, Flag_CbCoefs, Flag_CbModels = runModel(calFlag, valFlag, 'Cb')\n",
    "print(\"===FlagTChl===\")\n",
    "Flag_TChlData, Flag_TChlT2Predict, Flag_TChlCoefs, Flag_TChlModels = runModel(calFlag, valFlag, 'TChl')\n",
    "Flag_CaData['Type'] += 'Flag'\n",
    "Flag_CbData['Type'] += 'Flag'\n",
    "Flag_TChlData['Type'] += 'Flag'"
   ]
  },
  {
   "cell_type": "code",
   "execution_count": 15,
   "metadata": {},
   "outputs": [
    {
     "name": "stdout",
     "output_type": "stream",
     "text": [
      "614_Ca\n",
      "614_Cb\n",
      "614_TChl\n",
      "525_Ca\n",
      "525_Cb\n",
      "525_TChl\n",
      "415_Ca\n",
      "415_Cb\n",
      "415_TChl\n",
      "406_Ca\n",
      "406_Cb\n",
      "406_TChl\n",
      "common_Ca\n",
      "common_Cb\n",
      "common_TChl\n"
     ]
    }
   ],
   "source": [
    "SAVE_CSV = True\n",
    "if SAVE_CSV:\n",
    "    #allData = pd.concat([CaData, CbData, TChlData, Flag_CaData, Flag_CbData, Flag_TChlData])\n",
    "    #allData.to_csv(\"./stat_table.csv\", \",\")\n",
    "    for key, model in models.items():\n",
    "        for predict, frames in model.items():\n",
    "            model_wls_coefs(frames['data'], frames['coefs'], f\"{key}_{predict}\")"
   ]
  },
  {
   "cell_type": "code",
   "execution_count": 16,
   "metadata": {},
   "outputs": [],
   "source": [
    "for key, model in models.items():\n",
    "    dfs = []\n",
    "    for frames in model.values():\n",
    "        dfs.append(frames['data'])\n",
    "    pd.concat(dfs).to_csv(f\"./model_stats/{key}_table.csv\")"
   ]
  },
  {
   "cell_type": "code",
   "execution_count": 17,
   "metadata": {},
   "outputs": [
    {
     "name": "stdout",
     "output_type": "stream",
     "text": [
      "(19.762608599999997, 49.6255274)\n",
      "(4.2593906, 13.1576074)\n",
      "(24.029371099999995, 62.628324899999996)\n",
      "(19.762608599999997, 49.6255274)\n",
      "(4.2593906, 13.1576074)\n",
      "(24.029371099999995, 62.628324899999996)\n",
      "(19.762608599999997, 49.6255274)\n",
      "(4.2593906, 13.1576074)\n",
      "(24.029371099999995, 62.628324899999996)\n",
      "(19.762608599999997, 49.6255274)\n",
      "(4.2593906, 13.1576074)\n",
      "(24.029371099999995, 62.628324899999996)\n",
      "(19.762608599999997, 49.6255274)\n",
      "(4.2593906, 13.1576074)\n",
      "(24.029371099999995, 62.628324899999996)\n"
     ]
    }
   ],
   "source": [
    "for key, model in models.items():\n",
    "    drawFinals = finalGraphs(cal, val, param_data['DAT'], datasets[key], COLORS)\n",
    "    finalFig(drawFinals, model, predicteds, f\"n_graph_{key}\")\n",
    "plt.show()"
   ]
  },
  {
   "cell_type": "markdown",
   "metadata": {},
   "source": [
    "## Ratio based on models"
   ]
  },
  {
   "cell_type": "code",
   "execution_count": 18,
   "metadata": {},
   "outputs": [
    {
     "name": "stdout",
     "output_type": "stream",
     "text": [
      "614 1.9150318106446242 525 0.5174065632967012\n"
     ]
    }
   ],
   "source": [
    "a_min_wl, a_min, b_min_wl, b_min = None, 999, None, 999\n",
    "for wl, model in models.items():\n",
    "    Ca = model['Ca']['data']\n",
    "    Cb = model['Cb']['data']\n",
    "    ca_min = Ca.loc[(Ca.val == 1), 'RMSE'].iloc[0]\n",
    "    cb_min = Cb.loc[(Cb.val == 1), 'RMSE'].iloc[0]\n",
    "    if ca_min < a_min:\n",
    "        a_min = ca_min\n",
    "        a_min_wl = wl\n",
    "    if cb_min < b_min:\n",
    "        b_min = cb_min\n",
    "        b_min_wl = wl\n",
    "\n",
    "print(a_min_wl, a_min, b_min_wl, b_min)"
   ]
  },
  {
   "cell_type": "code",
   "execution_count": 19,
   "metadata": {},
   "outputs": [],
   "source": [
    "remove_514 = param_data[((param_data.Plots == 514) & (param_data.DAT == 81))].index[0]\n",
    "switch_517 = param_data[((param_data.Plots == 517) & (param_data.DAT == 81))].index[0]\n",
    "ProtoCaCal, ProtoCaVal = models[a_min_wl]['Ca']['T2Predict']\n",
    "CbCal, CbVal = models[b_min_wl]['Cb']['T2Predict']\n",
    "# remove 514 from CaVal\n",
    "# move 517 from CaCal to CaVal\n",
    "CaVal = ProtoCaVal.drop(index=remove_514)\n",
    "CaVal.loc[switch_517] = ProtoCaCal.loc[switch_517]\n",
    "CaCal = ProtoCaCal.drop(index=switch_517)\n",
    "ratio_data = param_data[['Ca', 'Cal_Val', 'Cb', 'DAT', 'Ratio', 'Treatment', 'Genotype']].copy()\n",
    "ratio_data.loc[switch_517, 'Cal_Val'] = 'Val' # switch 517 to Val\n",
    "cal_ratio_predict = CaCal.pred/CbCal.pred\n",
    "val_ratio_predict = CaVal.pred/CbVal.pred # [val][estimated]\n",
    "ratio_data.loc[ratio_data.Cal_Val == 'Cal', 'Pred_Ratio'] = cal_ratio_predict #.reshape(1, -1)[0]\n",
    "ratio_data.loc[ratio_data.Cal_Val == 'Val', 'Pred_Ratio'] = val_ratio_predict #.reshape(1, -1)[0]\n",
    "averaged_ratio = ratio_data.groupby(['DAT', 'Treatment', 'Genotype']).agg({'Ratio': 'mean', 'Pred_Ratio': 'mean'}).reset_index()\n",
    "ratio_data['edgecolors'] = ratio_data.DAT.map(COLORS)\n",
    "ratio_data['facecolors'] = ratio_data.apply(lambda row: row.edgecolors if row.Treatment == 'WW' else \"none\", axis=1)\n",
    "averaged_ratio['edgecolors'] = averaged_ratio.DAT.map(COLORS)\n",
    "averaged_ratio['facecolors'] = averaged_ratio.apply(lambda row: row.edgecolors if row.Treatment == 'WW' else \"none\", axis=1)"
   ]
  },
  {
   "cell_type": "code",
   "execution_count": null,
   "metadata": {},
   "outputs": [],
   "source": [
    "val_ratio_data = ratio_data[(ratio_data.Cal_Val == 'Val') & (~ratio_data.Pred_Ratio.isna())]\n",
    "avg_ratio = averaged_ratio.Ratio\n",
    "avg_pred_ratio = averaged_ratio.Pred_Ratio\n",
    "avg_slope, avg_intercept, _, avg_p, _ = linregress(avg_ratio, avg_pred_ratio)\n",
    "avg_r2 = 1-((((avg_ratio-avg_pred_ratio)**2).sum())/(((avg_ratio-avg_ratio.mean())**2).sum()))\n",
    "avg_rmse = mse(avg_ratio, avg_pred_ratio, squared=False)\n",
    "avg_minmax = np.array([avg_ratio.min(), avg_ratio.max()])\n",
    "\n",
    "val_ratio = val_ratio_data.Ratio\n",
    "val_pred_ratio = val_ratio_data.Pred_Ratio\n",
    "val_slope, val_intercept, _, val_p, _ = linregress(val_ratio, val_pred_ratio)\n",
    "val_r2 = 1-((((val_ratio-val_pred_ratio)**2).sum())/(((val_ratio-val_ratio.mean())**2).sum()))\n",
    "val_rmse = mse(val_ratio, val_pred_ratio, squared=False)\n",
    "val_minmax = np.array([val_ratio.min(), val_ratio.max()])\n",
    "\n",
    "R2_str = r\"${R}^{2}$\"\n",
    "fig, axes = plt.subplots(nrows=1, ncols=2, figsize=(10, 6))\n",
    "ax0 = axes[0]\n",
    "ax = axes[1]\n",
    "ax0.set_xlabel('Chl-a:b (observed)', weight='bold')\n",
    "ax0.set_ylabel('Chl-a:b (best PLSR)', weight='bold')\n",
    "ax0.set_aspect(adjustable='datalim', aspect='equal')\n",
    "ax.set_xlabel('Chl-a:b (observed)', weight='bold')\n",
    "ax.set_ylabel('Chl-a:b (best PLSR)', weight='bold')\n",
    "ax.set_aspect(adjustable='datalim', aspect='equal')\n",
    "\n",
    "\n",
    "ax0.scatter(x=val_ratio, y=val_pred_ratio, color=val_ratio_data.edgecolors, facecolor=val_ratio_data.facecolors)\n",
    "ax0.plot([0, 1], [0, 1], color='black', linestyle='dotted', transform=ax0.transAxes) # 1:1 line\n",
    "ax0.plot(val_minmax, val_minmax*val_slope+val_intercept, color='black') # regression line\n",
    "ax0.text(s='a', x=0.02, y=0.93, weight='bold', transform=ax0.transAxes)\n",
    "ax0.text(s=f\"n = {len(val_ratio_data)}\\n{R2_str} = {val_r2:.2f}\\nRMSE: {val_rmse:.2f}\\np<0.0001\", x=0.02, y=0.75, transform=ax0.transAxes)\n",
    "\n",
    "ax.scatter(x=avg_ratio, y=avg_pred_ratio, color=averaged_ratio.edgecolors, facecolor=averaged_ratio.facecolors)\n",
    "ax.plot([0, 1], [0, 1], color='black', linestyle='dotted', transform=ax.transAxes) # 1:1 line\n",
    "ax.plot(avg_minmax, avg_minmax*avg_slope+avg_intercept, color='black') # regression line\n",
    "ax.text(s='b', x=0.02, y=0.93, weight='bold', transform=ax.transAxes)\n",
    "ax.text(s=f\"n = {len(averaged_ratio)}\\n{R2_str} = {avg_r2:.2f}\\nRMSE: {avg_rmse:.2f}\\np<0.0001\", x=0.02, y=0.75, transform=ax.transAxes)\n",
    "\n",
    "handles = [lines.Line2D([], [], markerfacecolor='none', markeredgecolor='black', marker='o', linestyle='None', label='WL'), \n",
    "                   lines.Line2D([], [], color='black', marker='o', linestyle='None', label='WW')]\n",
    "handles += [lines.Line2D([], [], color=color, marker='.', linestyle='None', label=f'{name} DAT') for name, color in COLORS.items()]\n",
    "plt.figlegend(handles=handles, loc=\"upper center\", ncol=len(handles), bbox_to_anchor=(0.5, 0.2))\n",
    "fig.tight_layout()\n",
    "fig.subplots_adjust(bottom=0.3)\n",
    "fig.text(0.02, 0.02, '''1:1 graph of the relationship between observed Chl-a:b vs PLSR predicted Chl-a:b (i.e. Chl-a:b\n",
    "calculated from the best performing PLSR for Chl-a and Chl-b separately). (a) presents result from calibration model on the\n",
    "30 % validation dataset, and (b) presents averaged dataset from calibration model on all (100%) the dataset.''')\n",
    "plt.show()"
   ]
  },
  {
   "cell_type": "markdown",
   "metadata": {},
   "source": [
    "## Ratio PLS\n",
    "Now that I have everything ordered in nice dicts we can move on to ratio PLS"
   ]
  },
  {
   "cell_type": "code",
   "execution_count": 27,
   "metadata": {},
   "outputs": [
    {
     "data": {
      "text/plain": [
       "(50, 2)"
      ]
     },
     "execution_count": 27,
     "metadata": {},
     "output_type": "execute_result"
    }
   ],
   "source": [
    "models['614']['Ca']['T2Predict'][1].shape"
   ]
  },
  {
   "cell_type": "code",
   "execution_count": 47,
   "metadata": {},
   "outputs": [
    {
     "data": {
      "text/plain": [
       "86"
      ]
     },
     "execution_count": 47,
     "metadata": {},
     "output_type": "execute_result"
    }
   ],
   "source": [
    "param_data[((param_data.Plots == 517) & (param_data.DAT == 81))].index[0]"
   ]
  },
  {
   "cell_type": "code",
   "execution_count": 58,
   "metadata": {},
   "outputs": [],
   "source": [
    "by_model = {}\n",
    "remove_514 = param_data[((param_data.Plots == 514) & (param_data.DAT == 81))].index[0]\n",
    "switch_517 = param_data[((param_data.Plots == 517) & (param_data.DAT == 81))].index[0]\n",
    "for name, model in models.items():\n",
    "    info = {}\n",
    "    CaCal, CaVal = model['Ca']['T2Predict']\n",
    "    CbCal, CbVal = model['Cb']['T2Predict']\n",
    "    # remove 514 from CaVal\n",
    "    # move 517 from CaCal to CaVal\n",
    "    CaVal2 = CaVal.drop(index=remove_514)\n",
    "    CaVal2.loc[switch_517] = CaCal.loc[switch_517]\n",
    "    CaCal2 = CaCal.drop(index=switch_517)\n",
    "        \n",
    "    cal_real_data = CaCal2.obs/CbCal.obs\n",
    "    cal_model_predict = CaCal2.pred/CbCal.pred\n",
    "    val_real_data = CaVal2.obs/CbVal.obs\n",
    "    val_model_predict = CaVal2.pred/CbVal.pred\n",
    "    by_model[name] = {\n",
    "        'cal': (cal_real_data, cal_model_predict),\n",
    "        'val': (val_real_data, val_model_predict),\n",
    "        'rmse': mse(val_real_data, val_model_predict, squared=False)\n",
    "    }"
   ]
  },
  {
   "cell_type": "code",
   "execution_count": 63,
   "metadata": {},
   "outputs": [],
   "source": [
    "for name, cal_val in by_model.items():\n",
    "    cal = cal_val['cal']\n",
    "    val = cal_val['val']\n",
    "    rmse = cal_val['rmse']\n",
    "    ratio_graph(f\"ratio_{name}\", cal, val, rmse)"
   ]
  },
  {
   "cell_type": "markdown",
   "metadata": {},
   "source": [
    "## Deviation cause\n",
    "1. Is there a relation between the errors of the chl-a & chl-b predictions and the Ratio predictions?\n",
    "0. What is the relationship between the chl-a/b prediction and the denovo prediction of the ratio?"
   ]
  },
  {
   "cell_type": "code",
   "execution_count": 471,
   "metadata": {},
   "outputs": [
    {
     "name": "stdout",
     "output_type": "stream",
     "text": [
      "3\n"
     ]
    }
   ],
   "source": [
    "#predicts.append(((ycal ,yhat_cal),(yval ,yhat)))\n",
    "#for key, model in models.items():\n",
    "def relationship_plot(models, key, cal=True, denovo=True):\n",
    "    predictors = ['Ca', 'Cb', 'Ratio']\n",
    "    model = models[key]\n",
    "    if denovo:\n",
    "        series = [calc_error(model, predictor, cal) for predictor in predictors]\n",
    "    else:\n",
    "        series = [calc_error(model, predictor, cal) for predictor in predictors[:-1]]\n",
    "        ratio_model = by_model[key]\n",
    "        if cal:\n",
    "            ratio_set = ratio_model['cal']\n",
    "        else:\n",
    "            ratio_set = ratio_model['val']\n",
    "        nonovo_error = ratio_set[0]-ratio_set[1] \n",
    "        nonovo_error.name = 'Ratio'\n",
    "        series.append(nonovo_error)\n",
    "    errors = pd.concat(series, axis=1)\n",
    "    fig = plt.figure()\n",
    "    ax = fig.add_subplot(111, projection = '3d')\n",
    "\n",
    "    ax.set_xlabel(\"Ca\")\n",
    "    ax.set_ylabel(\"Cb\")\n",
    "    ax.set_zlabel(\"Ratio\")\n",
    "\n",
    "    ax.scatter(errors.Ca, errors.Cb, errors.Ratio)\n",
    "\n",
    "    plt.show()\n",
    "\n",
    "#relationship_plot(models, 'common')\n"
   ]
  },
  {
   "cell_type": "code",
   "execution_count": 475,
   "metadata": {},
   "outputs": [
    {
     "name": "stdout",
     "output_type": "stream",
     "text": [
      "3\n"
     ]
    }
   ],
   "source": [
    "relationship_plot(models, '406', denovo=False)"
   ]
  },
  {
   "cell_type": "code",
   "execution_count": 502,
   "metadata": {},
   "outputs": [],
   "source": [
    "def ratio_ratio_plot(models, key, cal=True):\n",
    "    model = models[key]['Ratio']\n",
    "    ratio = model['T2Predict']\n",
    "    ratio_model = by_model[key]\n",
    "    if cal:\n",
    "        nonovo = ratio_model['cal']\n",
    "        denovo = ratio[0]\n",
    "    else:\n",
    "        nonovo = ratio_model['val']\n",
    "        denovo = ratio[1]\n",
    "    \n",
    "    fig = plt.figure()\n",
    "    ax = fig.add_subplot(111)\n",
    "\n",
    "    ax.set_xlabel(\"Ratio\")\n",
    "    ax.set_ylabel(\"Nonovo ratio\")\n",
    "\n",
    "    ax.scatter(denovo[1].flatten(), nonovo[1])\n",
    "    ax.plot([0, 1], [0,1], transform=ax.transAxes)\n",
    "\n",
    "    plt.show()"
   ]
  },
  {
   "cell_type": "code",
   "execution_count": 503,
   "metadata": {},
   "outputs": [
    {
     "name": "stdout",
     "output_type": "stream",
     "text": [
      "614 (0.9489131034373915, 1.5866874809347982e-75)\n",
      "525 (0.9787835633699455, 4.192062973272186e-103)\n",
      "415 (0.49824785909393715, 1.0070073700832216e-10)\n",
      "406 (0.9107922975945921, 2.405971561519362e-58)\n",
      "common (0.8247782522850662, 3.1805829878314884e-38)\n"
     ]
    }
   ],
   "source": [
    "for key in by_model.keys():\n",
    "    print(key, ratio_ratio_r(models, key))"
   ]
  },
  {
   "cell_type": "code",
   "execution_count": 504,
   "metadata": {},
   "outputs": [
    {
     "name": "stdout",
     "output_type": "stream",
     "text": [
      "614 (0.945217957624768, 2.361254501913028e-31)\n",
      "525 (0.9821413487997065, 5.741939874651324e-46)\n",
      "415 (0.4669365481796376, 0.00011443108472969538)\n",
      "406 (0.9309743751099661, 2.2054783412742584e-28)\n",
      "common (0.7956864035833336, 6.621255590680845e-15)\n"
     ]
    }
   ],
   "source": [
    "for key in by_model.keys():\n",
    "    print(key, ratio_ratio_r(models, key, cal=False))"
   ]
  },
  {
   "cell_type": "code",
   "execution_count": 3,
   "metadata": {},
   "outputs": [
    {
     "data": {
      "text/plain": [
       "'TkAgg'"
      ]
     },
     "execution_count": 3,
     "metadata": {},
     "output_type": "execute_result"
    }
   ],
   "source": [
    "plt.get_backend()"
   ]
  },
  {
   "cell_type": "code",
   "execution_count": null,
   "metadata": {},
   "outputs": [],
   "source": []
  }
 ],
 "metadata": {
  "kernelspec": {
   "display_name": "Python 3 (ipykernel)",
   "language": "python",
   "name": "python3"
  },
  "language_info": {
   "codemirror_mode": {
    "name": "ipython",
    "version": 3
   },
   "file_extension": ".py",
   "mimetype": "text/x-python",
   "name": "python",
   "nbconvert_exporter": "python",
   "pygments_lexer": "ipython3",
   "version": "3.8.10"
  }
 },
 "nbformat": 4,
 "nbformat_minor": 4
}
